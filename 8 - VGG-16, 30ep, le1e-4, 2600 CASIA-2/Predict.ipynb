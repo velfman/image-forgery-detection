{
 "cells": [
  {
   "cell_type": "code",
   "execution_count": null,
   "id": "cc3281be",
   "metadata": {},
   "outputs": [],
   "source": [
    "import numpy as np\n",
    "from keras.utils.np_utils import to_categorical\n",
    "from PIL import Image, ImageChops, ImageEnhance\n",
    "import os\n",
    "import itertools\n",
    "import cv2\n",
    "import tensorflow as tf"
   ]
  },
  {
   "cell_type": "code",
   "execution_count": null,
   "id": "4ff780a4",
   "metadata": {},
   "outputs": [],
   "source": [
    "def convert_to_ela_image(path, quality):\n",
    "    temp_filename = 'temp_file_name.jpg'\n",
    "    ela_filename = 'temp_ela.png'\n",
    "    \n",
    "    image = Image.open(path).convert('RGB')\n",
    "    image.save(temp_filename, 'JPEG', quality = quality)\n",
    "    temp_image = Image.open(temp_filename)\n",
    "    \n",
    "    ela_image = ImageChops.difference(image, temp_image)\n",
    "    \n",
    "    extrema = ela_image.getextrema()\n",
    "    max_diff = max([ex[1] for ex in extrema])\n",
    "    if max_diff == 0:\n",
    "        max_diff = 1\n",
    "    scale = 255.0 / max_diff\n",
    "    \n",
    "    ela_image = ImageEnhance.Brightness(ela_image).enhance(scale)\n",
    "    \n",
    "    return ela_image"
   ]
  },
  {
   "cell_type": "code",
   "execution_count": null,
   "id": "3fdfece8",
   "metadata": {},
   "outputs": [],
   "source": [
    "image_size = (128, 128)\n",
    "\n",
    "def prepare(image_path):\n",
    "    return np.array(convert_to_ela_image(image_path, 90).resize(image_size)).flatten() / 255.0"
   ]
  },
  {
   "cell_type": "code",
   "execution_count": null,
   "id": "fafd90ee",
   "metadata": {},
   "outputs": [],
   "source": [
    "model = tf.keras.models.load_model('VGG-16, 30ep, le1e-4, 2600 CASIA-2.h5')"
   ]
  },
  {
   "cell_type": "code",
   "execution_count": null,
   "id": "11a271a3",
   "metadata": {},
   "outputs": [],
   "source": [
    "class_names = ['Обработанное', 'Оригинальное']\n",
    "\n",
    "image = prepare('image_name')\n",
    "image = image.reshape(-1, 128, 128, 3)\n",
    "y_pred = model.predict(image)\n",
    "y_pred_class = np.argmax(y_pred, axis = 1)[0]\n",
    "print(f'Class: {class_names[y_pred_class]} Confidence: {np.amax(y_pred) * 100:0.2f}')"
   ]
  }
 ],
 "metadata": {
  "kernelspec": {
   "display_name": "Python 3",
   "language": "python",
   "name": "python3"
  },
  "language_info": {
   "codemirror_mode": {
    "name": "ipython",
    "version": 3
   },
   "file_extension": ".py",
   "mimetype": "text/x-python",
   "name": "python",
   "nbconvert_exporter": "python",
   "pygments_lexer": "ipython3",
   "version": "3.8.8"
  }
 },
 "nbformat": 4,
 "nbformat_minor": 5
}
